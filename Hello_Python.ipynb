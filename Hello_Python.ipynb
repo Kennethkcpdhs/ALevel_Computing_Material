{
  "nbformat": 4,
  "nbformat_minor": 0,
  "metadata": {
    "colab": {
      "name": "Hello_Python.ipynb",
      "provenance": [],
      "collapsed_sections": [],
      "authorship_tag": "ABX9TyNofynxwfS0gp1oiXGAZM4g",
      "include_colab_link": true
    },
    "kernelspec": {
      "name": "python3",
      "display_name": "Python 3"
    }
  },
  "cells": [
    {
      "cell_type": "markdown",
      "metadata": {
        "id": "view-in-github",
        "colab_type": "text"
      },
      "source": [
        "<a href=\"https://colab.research.google.com/github/Kennethkcpdhs/Honey_Pancake/blob/master/Hello_Python.ipynb\" target=\"_parent\"><img src=\"https://colab.research.google.com/assets/colab-badge.svg\" alt=\"Open In Colab\"/></a>"
      ]
    },
    {
      "cell_type": "markdown",
      "metadata": {
        "id": "iSZYgEu3Zsm3",
        "colab_type": "text"
      },
      "source": [
        "# **Live Coding Session**"
      ]
    },
    {
      "cell_type": "markdown",
      "metadata": {
        "id": "37OJ1D9478Ci",
        "colab_type": "text"
      },
      "source": [
        "Enter the shell by pressing \"CTRL-C\" and any letter on the keyboard\n"
      ]
    },
    {
      "cell_type": "markdown",
      "metadata": {
        "id": "2fwNeg1pd77i",
        "colab_type": "text"
      },
      "source": [
        "Print and Comments"
      ]
    },
    {
      "cell_type": "code",
      "metadata": {
        "id": "FXxFlhCud8_4",
        "colab_type": "code",
        "outputId": "93a8af4f-bd5f-4acf-f249-a0685c697ef3",
        "colab": {
          "base_uri": "https://localhost:8080/",
          "height": 35
        }
      },
      "source": [
        "print(\"Hello World\") #output for the user to get feedback\n",
        "\n",
        "# comments make it easier for us to understand code\n",
        "\n",
        "'''\n",
        "Documentation Strings can be used for a similar function as comments\n",
        "They allow multi-line comments\n",
        "'''"
      ],
      "execution_count": 0,
      "outputs": [
        {
          "output_type": "stream",
          "text": [
            "Hello World\n"
          ],
          "name": "stdout"
        }
      ]
    },
    {
      "cell_type": "markdown",
      "metadata": {
        "id": "zetThJG2Rh_m",
        "colab_type": "text"
      },
      "source": [
        "Math Operators, Print, Assigning Variables \n"
      ]
    },
    {
      "cell_type": "code",
      "metadata": {
        "id": "Grz-LV2zReNJ",
        "colab_type": "code",
        "outputId": "17c0a689-f672-44ce-de13-17e1670d1fa7",
        "colab": {
          "base_uri": "https://localhost:8080/",
          "height": 146
        }
      },
      "source": [
        "#math\n",
        "print(3+5) # returns 8 (an integer)\n",
        "print(3**5) #3 to the power of 5\n",
        "print(type(3.14)) #decimal aka Float in Python\n",
        "print(type(\"hello\"))# String\n",
        "print(\"a\" == \"a\")\n",
        "print(\"a\" == \"A\")\n",
        "\n",
        "#assigning variables\n",
        "a = 25\n",
        "result = a//10\n",
        "print(result) #returns 2\n",
        "\n",
        "#look at Math Operators in the Workshop Info SLide for all other math operators"
      ],
      "execution_count": 0,
      "outputs": [
        {
          "output_type": "stream",
          "text": [
            "8\n",
            "243\n",
            "<class 'float'>\n",
            "<class 'str'>\n",
            "True\n",
            "False\n",
            "2\n"
          ],
          "name": "stdout"
        }
      ]
    },
    {
      "cell_type": "markdown",
      "metadata": {
        "id": "L4vigcK4XkC9",
        "colab_type": "text"
      },
      "source": [
        "Boolean Values (True/False)"
      ]
    },
    {
      "cell_type": "code",
      "metadata": {
        "id": "XteWm6kcRoKn",
        "colab_type": "code",
        "colab": {}
      },
      "source": [
        "while True: #a loop that continue infinitely\n",
        "    if cp.tapped:#boolean value\n",
        "        print(\"tapped!\")\n",
        "        cp.play_tone(800,0.5)\n",
        "        "
      ],
      "execution_count": 0,
      "outputs": []
    },
    {
      "cell_type": "markdown",
      "metadata": {
        "id": "lgCylWbWiOfE",
        "colab_type": "text"
      },
      "source": [
        "### Data Types --> for storing of various data"
      ]
    },
    {
      "cell_type": "markdown",
      "metadata": {
        "id": "lbUezkAvVviu",
        "colab_type": "text"
      },
      "source": [
        "Lists/Arrays"
      ]
    },
    {
      "cell_type": "code",
      "metadata": {
        "id": "X0E4UvGvh7QG",
        "colab_type": "code",
        "outputId": "a04e2489-2a11-4590-edef-b65b0ed0f3d5",
        "colab": {
          "base_uri": "https://localhost:8080/",
          "height": 54
        }
      },
      "source": [
        "coor = [] #list/array\n",
        "coor.append([1.35,103.8]) #SG Coor\n",
        "coor.append([4.21,101.9]) #M'sia Coor\n",
        "print(\"Original:\",coor)\n",
        "coor[0] = [1.36,103.8]\n",
        "\n",
        "#f-strings --> Allow one to format strings with a variable\n",
        "print(f\"New: {coor}\")\n",
        "# [[1.35, 103.8], [4.21, 101.9]] this is also known as a nested array\n"
      ],
      "execution_count": 0,
      "outputs": [
        {
          "output_type": "stream",
          "text": [
            "Original: [[1.35, 103.8], [4.21, 101.9]]\n",
            "New: [[1.36, 103.8], [4.21, 101.9]]\n"
          ],
          "name": "stdout"
        }
      ]
    },
    {
      "cell_type": "markdown",
      "metadata": {
        "id": "oFq-D0i3VSlx",
        "colab_type": "text"
      },
      "source": [
        "Dictionaries --> Storing of Key Value pairs"
      ]
    },
    {
      "cell_type": "code",
      "metadata": {
        "id": "nXTIX3vaVLRa",
        "colab_type": "code",
        "outputId": "6ac845da-533c-42c7-ed5a-55212a7886e5",
        "colab": {
          "base_uri": "https://localhost:8080/",
          "height": 35
        }
      },
      "source": [
        "results = dict() #key:value pairs\n",
        "results[\"Math\"] = 60 #adding items to dictionary\n",
        "results[\"Science\"] = 55\n",
        "print(results)"
      ],
      "execution_count": 0,
      "outputs": [
        {
          "output_type": "stream",
          "text": [
            "{'Math': 60, 'Science': 55}\n"
          ],
          "name": "stdout"
        }
      ]
    },
    {
      "cell_type": "markdown",
      "metadata": {
        "id": "Q1jK2eIPVZz7",
        "colab_type": "text"
      },
      "source": [
        "Sets -> Can perform unique math functions such as union, intersection and difference"
      ]
    },
    {
      "cell_type": "code",
      "metadata": {
        "id": "446M9ttBVYGH",
        "colab_type": "code",
        "colab": {}
      },
      "source": [
        "A = {1, 2, 3, 4, 5} #defining a set\n",
        "B = {4, 5, 6, 7, 8}\n",
        "print(A&B) #get intersection of set\n"
      ],
      "execution_count": 0,
      "outputs": []
    },
    {
      "cell_type": "markdown",
      "metadata": {
        "id": "KX6Y79ElVrMa",
        "colab_type": "text"
      },
      "source": [
        "Tuples"
      ]
    },
    {
      "cell_type": "code",
      "metadata": {
        "id": "bWaEUD5sVsvJ",
        "colab_type": "code",
        "outputId": "6e9ccd23-2a99-47a5-d587-4f76724feaa3",
        "colab": {
          "base_uri": "https://localhost:8080/",
          "height": 192
        }
      },
      "source": [
        "#tuples are immutable, aka values cannot be changed\n",
        "sg_coor = (1.21,103.1) #tuple\n",
        "sg_coor[0] = (1.31,103.2)"
      ],
      "execution_count": 0,
      "outputs": [
        {
          "output_type": "error",
          "ename": "TypeError",
          "evalue": "ignored",
          "traceback": [
            "\u001b[0;31m---------------------------------------------------------------------------\u001b[0m",
            "\u001b[0;31mTypeError\u001b[0m                                 Traceback (most recent call last)",
            "\u001b[0;32m<ipython-input-28-b2312fa603c5>\u001b[0m in \u001b[0;36m<module>\u001b[0;34m()\u001b[0m\n\u001b[1;32m      1\u001b[0m \u001b[0msg_coor\u001b[0m \u001b[0;34m=\u001b[0m \u001b[0;34m(\u001b[0m\u001b[0;36m1.21\u001b[0m\u001b[0;34m,\u001b[0m\u001b[0;36m103.1\u001b[0m\u001b[0;34m)\u001b[0m \u001b[0;31m#tuple\u001b[0m\u001b[0;34m\u001b[0m\u001b[0;34m\u001b[0m\u001b[0m\n\u001b[0;32m----> 2\u001b[0;31m \u001b[0msg_coor\u001b[0m\u001b[0;34m[\u001b[0m\u001b[0;36m0\u001b[0m\u001b[0;34m]\u001b[0m \u001b[0;34m=\u001b[0m \u001b[0;34m(\u001b[0m\u001b[0;36m1.31\u001b[0m\u001b[0;34m,\u001b[0m\u001b[0;36m103.2\u001b[0m\u001b[0;34m)\u001b[0m\u001b[0;34m\u001b[0m\u001b[0;34m\u001b[0m\u001b[0m\n\u001b[0m",
            "\u001b[0;31mTypeError\u001b[0m: 'tuple' object does not support item assignment"
          ]
        }
      ]
    },
    {
      "cell_type": "markdown",
      "metadata": {
        "id": "N6NuTcN-a2eG",
        "colab_type": "text"
      },
      "source": [
        "## Loops and Conditional Statements"
      ]
    },
    {
      "cell_type": "markdown",
      "metadata": {
        "id": "V0wx3UhKy32j",
        "colab_type": "text"
      },
      "source": [
        "While loops"
      ]
    },
    {
      "cell_type": "code",
      "metadata": {
        "id": "a4jESP1c2SA5",
        "colab_type": "code",
        "outputId": "41dc6906-a093-4dd2-eb05-294edb29a75b",
        "colab": {
          "base_uri": "https://localhost:8080/",
          "height": 109
        }
      },
      "source": [
        "freq = [180,290,470,760,1230]\n",
        "\n",
        "count = 0 # defining a counter\n",
        "while count<len(freq):\n",
        "    print(freq[count])\n",
        "    count+=1 #count = count + 1"
      ],
      "execution_count": 0,
      "outputs": [
        {
          "output_type": "stream",
          "text": [
            "180\n",
            "290\n",
            "470\n",
            "760\n",
            "1230\n"
          ],
          "name": "stdout"
        }
      ]
    },
    {
      "cell_type": "markdown",
      "metadata": {
        "id": "eq_nQimQy1xd",
        "colab_type": "text"
      },
      "source": [
        "For loops"
      ]
    },
    {
      "cell_type": "code",
      "metadata": {
        "id": "77b5od_La1yU",
        "colab_type": "code",
        "colab": {}
      },
      "source": [
        "from adafruit_circuitplayground import cp\n",
        "\n",
        "freq = [180,290,470,760,1230] #defining array/list\n",
        "\n",
        "#method 1\n",
        "while True:\n",
        "    cp.play_tone(freq[0],0.1) #zero refers to first element of list\n",
        "    cp.play_tone(freq[1],0.1) #list slicing\n",
        "    cp.play_tone(freq[2],0.1)\n",
        "    cp.play_tone(freq[3],0.1)\n",
        "    cp.play_tone(freq[4],0.1)\n",
        "    # Troublesome if the array gets bigger\n",
        "\n",
        "#method 2\n",
        "while True:\n",
        "    for frequencies in freq: #iterates through each element in freq list\n",
        "        cp.play_tone(frequencies,0.1)\n",
        "\n",
        "#method 3\n",
        "while True:\n",
        "    for i in range(len(freq)): #range (start, stop) \n",
        "        # i is a number\n",
        "        print(freq) # array indexing --> pinpoint a particular element "
      ],
      "execution_count": 0,
      "outputs": []
    },
    {
      "cell_type": "markdown",
      "metadata": {
        "id": "FVZYXbLHy7gb",
        "colab_type": "text"
      },
      "source": [
        "If Else Condtional Statements\n"
      ]
    },
    {
      "cell_type": "code",
      "metadata": {
        "id": "vxBQxPdw3RpM",
        "colab_type": "code",
        "colab": {}
      },
      "source": [
        "from adafruit_circuitplayground import cp\n",
        "import time\n",
        "\n",
        "while True:\n",
        "    if cp.shake(shake_threshold=10): #Board is shaking\n",
        "        print(\"Shake detected!\")\n",
        "        cp.pixels.fill((10,0,0)) \n",
        "        time.sleep(0.2) #wait for 0.2 seconds\n",
        "    else: #Board not shaking\n",
        "        cp.pixels.fill((0,0,0)) \n",
        "        print(\"Shake not detected!\")"
      ],
      "execution_count": 0,
      "outputs": []
    },
    {
      "cell_type": "markdown",
      "metadata": {
        "id": "ke2B-mHxd3H2",
        "colab_type": "text"
      },
      "source": [
        "**Functions (Helps you save time and space in rewriting code)**"
      ]
    },
    {
      "cell_type": "code",
      "metadata": {
        "id": "SSspzUybd2oo",
        "colab_type": "code",
        "colab": {}
      },
      "source": [
        "def shake():\n",
        "    if cp.shake(shake_threshold=10): #Board is shaking\n",
        "        print(\"Shake detected!\")\n",
        "        cp.pixels.fill((10,0,0)) \n",
        "        time.sleep(0.2) #wait for 0.2 seconds\n",
        "    else: #Board not shaking\n",
        "        cp.pixels.fill((0,0,0)) \n",
        "        print(\"Shake not detected!\")\n",
        "\n",
        "while True:\n",
        "    shake()\n"
      ],
      "execution_count": 0,
      "outputs": []
    },
    {
      "cell_type": "markdown",
      "metadata": {
        "id": "aHR5EsttV_Zp",
        "colab_type": "text"
      },
      "source": [
        "Getting Input from a user"
      ]
    },
    {
      "cell_type": "code",
      "metadata": {
        "id": "pmRmgy85V9Pc",
        "colab_type": "code",
        "colab": {}
      },
      "source": [
        "from adafruit_circuitplayground import cp\n",
        "import time\n",
        "\n",
        "while True:\n",
        "    try:\n",
        "        light = int(input(\"Which light to turn on?: \")) #restrict input to integer\n",
        "        cp.pixels.fill([0,0,0])#ensures that previous lights are turned off\n",
        "        cp.pixels[light] = ([255,255,255])\n",
        "        \n",
        "    except: #if the user does not enter a number\n",
        "        print(\"Enter a number from 1 to 9\")"
      ],
      "execution_count": 0,
      "outputs": []
    },
    {
      "cell_type": "markdown",
      "metadata": {
        "id": "xSg48O12a8-k",
        "colab_type": "text"
      },
      "source": [
        "Importing Modules "
      ]
    },
    {
      "cell_type": "code",
      "metadata": {
        "id": "bDEB4F2VYpa6",
        "colab_type": "code",
        "colab": {}
      },
      "source": [
        "# Write your code here :-)\n",
        "from adafruit_circuitplayground import cp #importing a specific portion of the adafruit_circuitplayground\n",
        "import time"
      ],
      "execution_count": 0,
      "outputs": []
    }
  ]
}