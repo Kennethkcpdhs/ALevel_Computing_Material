{
  "nbformat": 4,
  "nbformat_minor": 0,
  "metadata": {
    "colab": {
      "name": "20Y6C34 KENNETH KOH - Python with NoSQL Exercise 1.ipynb",
      "provenance": [],
      "collapsed_sections": [],
      "toc_visible": true
    },
    "kernelspec": {
      "name": "python3",
      "display_name": "Python 3"
    }
  },
  "cells": [
    {
      "cell_type": "markdown",
      "metadata": {
        "id": "_hyU5ReFC6ni"
      },
      "source": [
        "# Python with NoSQL Exercise 1\n",
        "\n",
        "You may need to do this on a local environment with MongoDB server and pymongo installed.\n",
        "\n",
        "A MongoDB database has a flexible schema. Create a MongoDB database business with a collection orders."
      ]
    },
    {
      "cell_type": "code",
      "metadata": {
        "id": "vYlmSBir_PbA"
      },
      "source": [
        "from pymongo import MongoClient\n",
        "\n",
        "#create mongo clientt\n",
        "client = MongoClient('localhost',27017)\n",
        "my_db = client['orders']\n",
        "mycol = my_db['items']"
      ],
      "execution_count": null,
      "outputs": []
    },
    {
      "cell_type": "markdown",
      "metadata": {
        "id": "T8ik053pJoXE"
      },
      "source": [
        "The data file orders_sample.json shows some possible documents. Comment on the current schema. What can you say about the differences between this and the SQL context?\n",
        "\n",
        "Generate a suitable orders.json."
      ]
    },
    {
      "cell_type": "markdown",
      "metadata": {
        "id": "6ATAd-ypnfxL"
      },
      "source": [
        "Answer: SQL context makes use of a relational database schema. NoSQL use a document style collection to store data. The documents in the sample_orders include fields from the Customers, Products as well as orders document, instead of being placed in separate schemas"
      ]
    },
    {
      "cell_type": "code",
      "metadata": {
        "id": "-nUFWODtBiF2"
      },
      "source": [
        "import csv\n",
        "import json"
      ],
      "execution_count": null,
      "outputs": []
    },
    {
      "cell_type": "code",
      "metadata": {
        "id": "cPnFl6GmJ9bi"
      },
      "source": [
        "order_data = dict()\n",
        "#sample\n",
        "#orderid, customerid,customername,contactno,orderdate,orderdetails(productid,productname,unitprice,quantity)\n",
        "\n",
        "def csv_to_json(filepath,mainkey):\n",
        "    with open(filepath) as file:\n",
        "        reader = csv.DictReader(file)\n",
        "        #add each row as a new dictionary\n",
        "        fin = []\n",
        "        for row in reader:\n",
        "            fin.append(row)\n",
        "    \n",
        "    with open(f'{filepath[:-4]}.json','w') as jsonf:\n",
        "        jsonf.write(json.dumps(fin, indent=4))\n",
        "    return fin\n",
        "csv_to_json('orders.csv','OrderID')\n",
        "csv_to_json('products.csv','ProductID')\n",
        "csv_to_json('order_details.csv','OrderID')\n",
        "csv_to_json('customers.csv','CustomerID')"
      ],
      "execution_count": null,
      "outputs": []
    },
    {
      "cell_type": "markdown",
      "metadata": {
        "id": "9I7OOimmePpn"
      },
      "source": [
        "Insert the documents from your generated orders.json into the orders collection."
      ]
    },
    {
      "cell_type": "markdown",
      "metadata": {
        "id": "cYKUitcoJ_Co"
      },
      "source": [
        "Write query statements to determine:\n",
        "- number of orders made on a particular day entered by a user\n",
        "- total revenue on a particular day\n",
        "- number of orders made by a particular customer\n",
        "- product(s) with lowest sales\n",
        "- best selling product(s) over a period of time (start to end dates inclusive)"
      ]
    },
    {
      "cell_type": "code",
      "metadata": {
        "id": "xiibV6ryLPhA"
      },
      "source": [
        "import pymongo\n",
        "from pymongo import MongoClient\n",
        "import json\n",
        "\n",
        "#create mongo client\n",
        "client = MongoClient('localhost',27017)\n",
        "db_store = client['store']\n",
        "\n",
        "#CustomerID\tCustomerName\tContactNo\n",
        "db_customers = db_store['customers']\n",
        "\n",
        "#OrderID\tProductID\tQuantity\n",
        "db_orderdetails = db_store['order_details'] \n",
        "\n",
        "#ProductID\tProductName\tUnitPrice\n",
        "db_products = db_store['products'] \n",
        "\n",
        "#OrderID\tCustomerID\tOrderDate\n",
        "db_orders = db_store['orders'] "
      ],
      "execution_count": null,
      "outputs": []
    },
    {
      "cell_type": "code",
      "metadata": {
        "scrolled": false,
        "id": "yecX74SUCjML"
      },
      "source": [
        "#load documents\n",
        "def load_documents(mongocol,filepath):\n",
        "    with open(filepath) as f:\n",
        "        file_data = json.load(f)\n",
        "        x = mongocol.insert_many(file_data)\n",
        "        return x.inserted_ids\n",
        "        '''\n",
        "        for line in f:\n",
        "            #file_data = json.loads(line)\n",
        "            x = mycol.insert_one(file_data)\n",
        "            print(x.inserted_ids)'''\n",
        "\n",
        "load_documents(db_customers,'customers.json')\n",
        "load_documents(db_orderdetails,'order_details.json')\n",
        "load_documents(db_products,'products.json')\n",
        "load_documents(db_orders,'orders.json')"
      ],
      "execution_count": null,
      "outputs": []
    },
    {
      "cell_type": "code",
      "metadata": {
        "id": "LEMbS2Q3CjMR"
      },
      "source": [
        "#remove duplicates by OrderIDs and groups them\n",
        "#\"_id\" is a necessary field for mongodb\n",
        "new_orderdetails = db_orderdetails.aggregate([\n",
        "    {\"$group\":{\n",
        "        \"_id\":\"$OrderID\",\n",
        "        \"OrderID\":{\"$first\":\"$OrderID\"},\n",
        "        \"Orders_made\":{\"$push\":{\n",
        "            \"ProductID\": \"$ProductID\",\n",
        "            \"Quantity\": \"$Quantity\"\n",
        "        }}\n",
        "    }} \n",
        "])\n",
        "#print(f\"After:{db_orderdetails.count()}\")\n",
        "new_ordersd = {}\n",
        "#prevent similar items from being overrided in dictionary\n",
        "for count,item in enumerate(new_orderdetails):\n",
        "    new_ordersd[count] = item\n",
        "    print(item)\n",
        "\n",
        "#output\n",
        "'''\n",
        "{'_id': '10533', 'OrderID': '10533', 'Orders_made': [{'ProductID': '4', 'Quantity': '50'}, {'ProductID': '72', 'Quantity': '24'}, {'ProductID': '73', 'Quantity': '24'}]}\n",
        "{'_id': '10788', 'OrderID': '10788', 'Orders_made': [{'ProductID': '19', 'Quantity': '50'}, {'ProductID': '75', 'Quantity': '40'}]}\n",
        "...\n",
        "'''"
      ],
      "execution_count": null,
      "outputs": []
    },
    {
      "cell_type": "code",
      "metadata": {
        "id": "iZv95Xt_CjMV",
        "outputId": "817a7674-dd97-49f0-aed6-20a5d559b0d1"
      },
      "source": [
        "#Task 1\n",
        "#print(new_ordersd)\n",
        "customer_id = 'TOMSP'\n",
        "day = '1996-07-05'\n",
        "cust_id = db_orders.find_one({\"CustomerID\":customer_id,\"OrderDate\":day},{\"OrderID\"})\n",
        "print(cust_id['OrderID'])\n",
        "for k in range(len(new_ordersd)):\n",
        "    if new_ordersd[k]['OrderID'] == cust_id['OrderID']:\n",
        "        print(new_ordersd[k]['Orders_made'])\n",
        "        print(f\"Number of orders made: {len(new_ordersd[k]['Orders_made'])}\")\n"
      ],
      "execution_count": null,
      "outputs": [
        {
          "output_type": "stream",
          "text": [
            "10249\n",
            "[{'ProductID': '14', 'Quantity': '9'}, {'ProductID': '51', 'Quantity': '40'}]\n",
            "Number of orders made: 2\n"
          ],
          "name": "stdout"
        }
      ]
    },
    {
      "cell_type": "code",
      "metadata": {
        "scrolled": true,
        "id": "7I5x1d4uCjMY",
        "outputId": "0a348855-b33d-4727-dbba-663dea10c8ac"
      },
      "source": [
        "#Task 2\n",
        "rev_day = '1996-08-14' #Day to count\n",
        "bought_products = list(db_orders.find({\"OrderDate\":rev_day},{\"OrderID\"})) #find days that match\n",
        "print(bought_products)\n",
        "\n",
        "total_revenue = 0\n",
        "\n",
        "#iterate through each product bought\n",
        "for i in range(len(bought_products)):\n",
        "    #checking with existing orders dictionary (order_details)\n",
        "    for k in range(len(new_ordersd)):\n",
        "        #found corresponding IDs\n",
        "        if new_ordersd[k]['OrderID'] == bought_products[i]['OrderID']:\n",
        "            for m in range(len(new_ordersd[k]['Orders_made'])):\n",
        "                #add each quantity for the order\n",
        "                pid = new_ordersd[k]['Orders_made'][m]['ProductID']\n",
        "                qty =  int(new_ordersd[k]['Orders_made'][m]['Quantity'])\n",
        "                #Filter,projection\n",
        "                price = db_products.find_one({\"ProductID\":pid},{\"UnitPrice\"})\n",
        "                price = float(price[\"UnitPrice\"])\n",
        "                print(f\"price {price}, qty {qty}\")\n",
        "                total_revenue+=(qty*price)\n",
        "print(f\"TotalRevenue {total_revenue}\")"
      ],
      "execution_count": null,
      "outputs": [
        {
          "output_type": "stream",
          "text": [
            "[{'_id': ObjectId('5eec9ee0169c0f1347b9b144'), 'OrderID': '10280'}, {'_id': ObjectId('5eec9ee0169c0f1347b9b145'), 'OrderID': '10281'}]\n",
            "price 4.5, qty 12\n",
            "price 24.0, qty 20\n",
            "price 7.75, qty 30\n",
            "price 9.2, qty 1\n",
            "price 4.5, qty 6\n",
            "price 18.0, qty 4\n",
            "TotalRevenue 874.7\n"
          ],
          "name": "stdout"
        }
      ]
    },
    {
      "cell_type": "code",
      "metadata": {
        "id": "nhLGloPbCjMc",
        "outputId": "3e2517c0-f53d-4737-d564-80940f3386fa"
      },
      "source": [
        "#Task 3\n",
        "b_customer = 'TOMSP'\n",
        "print(\"No. of orders made: \",db_orders.count_documents({\"CustomerID\":b_customer}))"
      ],
      "execution_count": null,
      "outputs": [
        {
          "output_type": "stream",
          "text": [
            "No. of orders made:  6\n"
          ],
          "name": "stdout"
        }
      ]
    },
    {
      "cell_type": "code",
      "metadata": {
        "id": "Rs2USaAgCjMg",
        "outputId": "f32344d8-9296-4f58-b8f0-9c1c967f22e5"
      },
      "source": [
        "#Task 4\n",
        "#remove duplicates by product IDs and groups them\n",
        "#\"_id\" is a necessary field for mongodb\n",
        "productsales = db_orderdetails.aggregate([\n",
        "    {\"$group\":{\n",
        "        \"_id\":\"$ProductID\",\n",
        "        \"ProductID\":{\"$first\":\"$ProductID\"},\n",
        "        \"Orders_list\":{\"$push\":{\n",
        "            \"OrderID\": \"$OrderID\",\n",
        "            \"Quantity\": \"$Quantity\"\n",
        "        }}\n",
        "    }} \n",
        "])\n",
        "\n",
        "new_productsales = {}\n",
        "\n",
        "#adds an index to append each item uniquely to prevent overriding \n",
        "for count,item in enumerate(productsales):\n",
        "    new_productsales[count] = item\n",
        "    #print(item)\n",
        "\n",
        "total_orders = dict()\n",
        "for i in range(len(new_productsales)):\n",
        "    total_orders[new_productsales[i]['ProductID']] = len(new_productsales[i]['Orders_list'])\n",
        "print(dict(sorted(total_orders.items(), key=lambda x: x[1], reverse=False)))\n",
        "print(f\"Most Unpopular Product has ID {list(dict(sorted(total_orders.items(), key=lambda x: x[1], reverse=False)).keys())[0]}\")"
      ],
      "execution_count": null,
      "outputs": [
        {
          "output_type": "stream",
          "text": [
            "{'9': 5, '48': 6, '37': 6, '15': 6, '66': 8, '27': 9, '67': 10, '5': 10, '50': 10, '3': 12, '6': 12, '8': 13, '74': 13, '12': 14, '45': 14, '22': 14, '73': 14, '32': 15, '20': 16, '63': 17, '58': 18, '25': 18, '34': 19, '4': 20, '23': 20, '49': 21, '47': 21, '14': 22, '57': 23, '61': 24, '44': 24, '38': 24, '18': 27, '46': 27, '43': 28, '7': 29, '52': 29, '39': 30, '42': 30, '53': 30, '64': 30, '36': 31, '69': 31, '65': 32, '26': 32, '33': 32, '30': 32, '29': 32, '55': 33, '28': 33, '10': 33, '68': 34, '54': 36, '35': 36, '19': 37, '17': 37, '72': 38, '77': 38, '1': 38, '11': 38, '76': 39, '70': 39, '21': 39, '51': 39, '13': 40, '40': 41, '71': 42, '16': 43, '2': 44, '75': 46, '41': 47, '62': 48, '56': 50, '60': 51, '24': 51, '31': 51, '59': 54}\n",
            "Most Unpopular Product has ID 9\n"
          ],
          "name": "stdout"
        }
      ]
    },
    {
      "cell_type": "code",
      "metadata": {
        "id": "JK7NRVEHCjMl",
        "outputId": "10516e56-4919-4b62-ad57-ab6f3ef4de18"
      },
      "source": [
        "#Task 5\n",
        "start_date = '1996-07-04'\n",
        "end_date = '1996-07-08'\n",
        "\n",
        "orders_made = list(db_orders.find({\"OrderDate\":{\"$gte\":start_date,\"$lte\":end_date}},{\"OrderID\"}))\n",
        "print(orders_made)\n",
        "\n",
        "bestselling = dict()\n",
        "for i in range(len(orders_made)):\n",
        "    print(orders_made[i][\"OrderID\"])\n",
        "    \n",
        "    #find dates in ORder_details with same quantity and productid\n",
        "    temp = list(db_orderdetails.find({\"OrderID\":{\"$eq\":orders_made[i][\"OrderID\"]}},{\"ProductID\",\"Quantity\"}))\n",
        "    for j in range(len(temp)):\n",
        "        #print(temp[j]['ProductID'])\n",
        "        bestselling[temp[j][\"ProductID\"]] = int(temp[j][\"Quantity\"])\n",
        "        \n",
        "#sort dictionary        \n",
        "print(dict(sorted(bestselling.items(),key=lambda x:x[1],reverse=True)))\n",
        "best = list(dict(sorted(bestselling.items(),key=lambda x:x[1],reverse=True)).keys())[0]\n",
        "print(f\"Most Popular Product from {start_date} to {end_date} is {best}\")"
      ],
      "execution_count": null,
      "outputs": [
        {
          "output_type": "stream",
          "text": [
            "[{'_id': ObjectId('5eec9ee0169c0f1347b9b124'), 'OrderID': '10248'}, {'_id': ObjectId('5eec9ee0169c0f1347b9b125'), 'OrderID': '10249'}, {'_id': ObjectId('5eec9ee0169c0f1347b9b126'), 'OrderID': '10250'}, {'_id': ObjectId('5eec9ee0169c0f1347b9b127'), 'OrderID': '10251'}]\n",
            "10248\n",
            "10249\n",
            "10250\n",
            "10251\n",
            "{'51': 35, '65': 20, '57': 15, '11': 12, '42': 10, '41': 10, '14': 9, '22': 6, '72': 5}\n",
            "Most Popular Product from 1996-07-04 to 1996-07-08 is 51\n"
          ],
          "name": "stdout"
        }
      ]
    }
  ]
}