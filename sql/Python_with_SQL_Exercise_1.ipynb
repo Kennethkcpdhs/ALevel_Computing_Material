{
  "nbformat": 4,
  "nbformat_minor": 0,
  "metadata": {
    "colab": {
      "name": "20Y6C34 KENNETH KOH - Python with SQL Exercise 1.ipynb",
      "provenance": [],
      "collapsed_sections": [],
      "toc_visible": true,
      "include_colab_link": true
    },
    "kernelspec": {
      "name": "python3",
      "display_name": "Python 3"
    }
  },
  "cells": [
    {
      "cell_type": "markdown",
      "metadata": {
        "id": "view-in-github",
        "colab_type": "text"
      },
      "source": [
        "<a href=\"https://colab.research.google.com/github/Kennethkcpdhs/Honey_Pancake/blob/master/Python_with_SQL_Exercise_1.ipynb\" target=\"_parent\"><img src=\"https://colab.research.google.com/assets/colab-badge.svg\" alt=\"Open In Colab\"/></a>"
      ]
    },
    {
      "cell_type": "markdown",
      "metadata": {
        "id": "_hyU5ReFC6ni",
        "colab_type": "text"
      },
      "source": [
        "# Python with SQL Exercise 1\n",
        "\n",
        "Create a SQLite3 database business.db with the following tables:\n",
        "- Product(ProductID, ProductName, UnitPrice) \n",
        "- Customer(CustomerID, CustomerName, ContactNo)\n",
        "- Order(OrderID, CustomerID, OrderDate)\n",
        "- OrderDetails(OrderID, ProductID, Quantity)"
      ]
    },
    {
      "cell_type": "code",
      "metadata": {
        "id": "vYlmSBir_PbA",
        "colab_type": "code",
        "colab": {}
      },
      "source": [
        "import csv\n",
        "import sqlite3\n",
        "\n",
        "conn = sqlite3.connect('customers.db')\n",
        "conn.execute('''\n",
        "CREATE TABLE IF NOT EXISTS \"Product\"(\n",
        "    \"ProductID\" TEXT NOT NULL UNIQUE,\n",
        "    \"ProductName\" TEXT NOT NULL,\n",
        "    \"UnitPrice\" DECIMAL(5,2),\n",
        "    PRIMARY KEY(\"ProductID\")\n",
        ");\n",
        "''')\n",
        "conn.commit()\n",
        "conn.execute('''\n",
        "CREATE TABLE IF NOT EXISTS \"Customer\"(\n",
        "    \"CustomerID\" TEXT NOT NULL UNIQUE,\n",
        "    \"CustomerName\" TEXT,\n",
        "    \"ContactNo\" INTEGER,\n",
        "    PRIMARY KEY(\"CustomerID\")\n",
        ");\n",
        "''')\n",
        "conn.commit()\n",
        "conn.execute('''\n",
        "CREATE TABLE IF NOT EXISTS \"Order\"(\n",
        "    \"OrderID\" TEXT NOT NULL UNIQUE,\n",
        "    \"CustomerID\" TEXT NOT NULL,\n",
        "    \"OrderDate\" TEXT NOT NULL,\n",
        "    PRIMARY KEY(\"OrderID\"),\n",
        "    FOREIGN KEY (\"CustomerID\") REFERENCES \"Customer\"(\"CustomerID\")\n",
        ");\n",
        "''')\n",
        "conn.commit()\n",
        "conn.execute('''\n",
        "CREATE TABLE IF NOT EXISTS \"OrderDetails\"(\n",
        "    \"OrderID\" TEXT NOT NULL,\n",
        "    \"ProductID\" TEXT,\n",
        "    \"Quantity\" INTEGER,\n",
        "    PRIMARY KEY(\"OrderID\",\"ProductID\"),\n",
        "    FOREIGN KEY (\"ProductID\") REFERENCES \"Product\"(\"ProductID\"),\n",
        "    FOREIGN KEY (\"OrderID\") REFERENCES \"Order\"(\"OrderID\")\n",
        ");\n",
        "''')\n",
        "conn.commit()"
      ],
      "execution_count": null,
      "outputs": []
    },
    {
      "cell_type": "markdown",
      "metadata": {
        "id": "T8ik053pJoXE",
        "colab_type": "text"
      },
      "source": [
        "Insert records into the respective tables using the following files:\n",
        "- products.csv\n",
        "- customers.csv\n",
        "- orders.csv\n",
        "- order_details.csv"
      ]
    },
    {
      "cell_type": "code",
      "metadata": {
        "id": "cPnFl6GmJ9bi",
        "colab_type": "code",
        "colab": {}
      },
      "source": [
        "\n",
        "cursor = conn.cursor()\n",
        "with open('customers.csv','r') as customers_file:\n",
        "    csv_reader = csv.reader(customers_file,delimiter=\",\")\n",
        "    customerdata = []\n",
        "\n",
        "    for row in csv_reader:\n",
        "        customerdata.append(row)\n",
        "        \n",
        "    for data in customerdata[1:]:\n",
        "        cursor.execute(\"INSERT INTO Customer(CustomerID,CustomerName,ContactNo) VALUES (?,?,?)\",(data[0],data[1],data[2]))\n",
        "        conn.commit()\n",
        "\n",
        "with open('products.csv','r') as products:\n",
        "    csv_reader = csv.reader(products,delimiter=\",\")\n",
        "    products = []\n",
        "\n",
        "    for row in csv_reader:\n",
        "        products.append(row)\n",
        "    \n",
        "\n",
        "    for product in products[1:]:\n",
        "        cursor.execute(\"INSERT INTO Product(ProductID,ProductName,UnitPrice) VALUES (?,?,?)\",(product[0],product[1],product[2]))\n",
        "        conn.commit()\n",
        "\n",
        "\n",
        "with open('orders.csv','r') as f:\n",
        "    csv_reader = csv.reader(f,delimiter=\",\")\n",
        "    orders = []\n",
        "\n",
        "    for row in csv_reader:\n",
        "        orders.append(row)\n",
        "    \n",
        "    for order in orders[1:]:\n",
        "        cursor.execute(\"INSERT INTO 'Order'(OrderID,CustomerID,OrderDate) VALUES (?,?,?)\",(order[0],order[1],order[2]))\n",
        "        conn.commit()\n",
        "\n",
        "\n",
        "\n",
        "with open('order_details.csv','r') as order_details:\n",
        "    csv_reader = csv.reader(order_details,delimiter=\",\")\n",
        "    orderdetails = []\n",
        "\n",
        "    for row in csv_reader:\n",
        "        orderdetails.append(row)\n",
        "    \n",
        "    for orderdetail in orderdetails[1:]:\n",
        "        cursor.execute(\"INSERT INTO OrderDetails(OrderID,ProductID,Quantity) VALUES (?,?,?)\",(orderdetail[0],orderdetail[1],orderdetail[2]))\n",
        "        conn.commit()\n",
        "cursor.close()"
      ],
      "execution_count": null,
      "outputs": []
    },
    {
      "cell_type": "markdown",
      "metadata": {
        "id": "cYKUitcoJ_Co",
        "colab_type": "text"
      },
      "source": [
        "Write SQL query statements to determine:\n",
        "- number of orders made on a particular day entered by a user\n",
        "- total revenue on a particular day\n",
        "- number of orders made by a particular customer\n",
        "- product(s) with lowest sales\n",
        "- best selling product(s) over a period of time (start to end dates inclusive)"
      ]
    },
    {
      "cell_type": "code",
      "metadata": {
        "id": "xiibV6ryLPhA",
        "colab_type": "code",
        "colab": {}
      },
      "source": [
        "import csv\n",
        "import sqlite3\n",
        "conn = sqlite3.connect('customers.db')\n",
        "cursor = conn.cursor()"
      ],
      "execution_count": null,
      "outputs": []
    },
    {
      "cell_type": "code",
      "metadata": {
        "id": "swN66r8tAAC4",
        "colab_type": "code",
        "colab": {
          "base_uri": "https://localhost:8080/",
          "height": 54
        },
        "outputId": "e1e39c79-aee4-4025-aa83-c23ed3fb6e68"
      },
      "source": [
        "#Task 1\n",
        "username = 'Karin Josephs'\n",
        "day = '1996-07-05'\n",
        "customerid = cursor.execute(\"SELECT CustomerID FROM Customer WHERE CustomerName=(?)\",(username,)).fetchone()[0]\n",
        "print(customerid)\n",
        "#items = cursor.execute(\"SELECT OrderID FROM 'Order' WHERE CustomerID=?\",(str(customerid),))\n",
        "items = cursor.execute(\"SELECT COUNT(OrderID) FROM 'Order' WHERE OrderDate=? AND CustomerID=?\",(str(day),str(customerid)))\n",
        "items = items.fetchall()[0][0]\n",
        "print(\"No.of orders made: \",items)"
      ],
      "execution_count": null,
      "outputs": [
        {
          "output_type": "stream",
          "text": [
            "TOMSP\n",
            "No.of orders made:  1\n"
          ],
          "name": "stdout"
        }
      ]
    },
    {
      "cell_type": "code",
      "metadata": {
        "id": "EedCtdaAADBK",
        "colab_type": "code",
        "colab": {
          "base_uri": "https://localhost:8080/",
          "height": 90
        },
        "outputId": "26df1b0a-02cd-48ee-b034-5a8c8310d11a"
      },
      "source": [
        "#Task 2\n",
        "newday = '1996-07-08'\n",
        "bought = cursor.execute(\"SELECT OrderID FROM 'Order' WHERE OrderDate=?\",(str(newday),)).fetchall()\n",
        "print(bought)\n",
        "cost = 0\n",
        "for items in bought:\n",
        "    items = items[0]\n",
        "    print(items)\n",
        "    quantity = cursor.execute(\"SELECT Quantity FROM OrderDetails WHERE OrderID=?\",(items,)).fetchone()[0]\n",
        "    productid = cursor.execute(\"SELECT ProductID FROM OrderDetails WHERE OrderID=?\",(items,)).fetchone()[0]\n",
        "    price = cursor.execute(\"SELECT UnitPrice FROM Product WHERE ProductID=?\",(str(productid),)).fetchone()\n",
        "    #print(quantity,productid,price)\n",
        "    cost += (int(price[0])*int(quantity))\n",
        "    \n",
        "print(cost)"
      ],
      "execution_count": null,
      "outputs": [
        {
          "output_type": "stream",
          "text": [
            "[('10250',), ('10251',)]\n",
            "10250\n",
            "10251\n",
            "216\n"
          ],
          "name": "stdout"
        }
      ]
    },
    {
      "cell_type": "code",
      "metadata": {
        "id": "UMXzdOQRANO_",
        "colab_type": "code",
        "colab": {
          "base_uri": "https://localhost:8080/",
          "height": 35
        },
        "outputId": "0a5a1ffc-ad05-4b92-c8fe-d097787d1e8c"
      },
      "source": [
        "#Task 3\n",
        "username = 'Karin Josephs'\n",
        "customerid = cursor.execute(\"SELECT CustomerID FROM Customer WHERE CustomerName=(?)\",(username,)).fetchone()[0]\n",
        "items = cursor.execute(\"SELECT Count(OrderID) FROM 'Order' WHERE CustomerID=?\",(str(customerid),)).fetchall()[0][0]\n",
        "print(\"Number of orders made: \",items)"
      ],
      "execution_count": null,
      "outputs": [
        {
          "output_type": "stream",
          "text": [
            "Number of orders made:  6\n"
          ],
          "name": "stdout"
        }
      ]
    },
    {
      "cell_type": "code",
      "metadata": {
        "id": "N3pQ76LQAO3s",
        "colab_type": "code",
        "colab": {
          "base_uri": "https://localhost:8080/",
          "height": 74
        },
        "outputId": "27de535a-d7c1-4acd-a1e0-442844b69031"
      },
      "source": [
        "#Task 4\n",
        "lowestquantity = \"\"\"\n",
        "SELECT ProductID, SUM(Quantity) FROM OrderDetails GROUP BY ProductID ORDER BY SUM(Quantity);\n",
        "\"\"\"\n",
        "minquantity = cursor.execute(lowestquantity).fetchall()\n",
        "firstq = minquantity[0][1]\n",
        "print(minquantity)\n",
        "print(\"Products: \",end='')\n",
        "for i in range(len(minquantity)):\n",
        "    if minquantity[i][1] == firstq:\n",
        "        print(minquantity[i][0],end=' ')\n",
        "    else:\n",
        "        break"
      ],
      "execution_count": null,
      "outputs": [
        {
          "output_type": "stream",
          "text": [
            "[('9', 95), ('15', 122), ('37', 125), ('48', 138), ('67', 184), ('50', 235), ('66', 239), ('73', 293), ('32', 297), ('74', 297), ('5', 298), ('6', 301), ('20', 313), ('25', 318), ('3', 328), ('12', 344), ('22', 348), ('27', 365), ('8', 372), ('14', 404), ('57', 434), ('63', 445), ('4', 453), ('47', 485), ('52', 500), ('34', 506), ('45', 508), ('49', 520), ('58', 534), ('18', 539), ('46', 548), ('23', 580), ('43', 580), ('44', 601), ('61', 603), ('30', 612), ('38', 623), ('28', 640), ('42', 697), ('11', 706), ('69', 714), ('53', 722), ('19', 723), ('64', 740), ('10', 742), ('65', 745), ('29', 746), ('26', 753), ('33', 755), ('54', 755), ('7', 763), ('77', 791), ('39', 793), ('68', 799), ('36', 805), ('72', 806), ('70', 817), ('1', 828), ('35', 883), ('51', 886), ('13', 891), ('55', 903), ('17', 978), ('41', 981), ('76', 981), ('21', 1016), ('2', 1057), ('71', 1057), ('62', 1083), ('40', 1103), ('24', 1125), ('75', 1155), ('16', 1158), ('56', 1263), ('31', 1397), ('59', 1496), ('60', 1577)]\n",
            "Products: 9 "
          ],
          "name": "stdout"
        }
      ]
    },
    {
      "cell_type": "code",
      "metadata": {
        "id": "c9Z1QC7VAQ0O",
        "colab_type": "code",
        "colab": {
          "base_uri": "https://localhost:8080/",
          "height": 54
        },
        "outputId": "b71f22eb-bf2f-4012-a386-6fff441e34e8"
      },
      "source": [
        "#Task 5\n",
        "start = '1996-07-04'\n",
        "end = '1996-07-08'\n",
        "\n",
        "querystring = \"\"\"\n",
        "SELECT ProductID, SUM(Quantity) FROM OrderDetails WHERE OrderID IN (\n",
        "SELECT OrderID From 'Order' WHERE OrderDate>=? AND Orderdate<=?\n",
        ") GROUP BY ProductID ORDER BY SUM(Quantity) DESC;\n",
        "\"\"\"\n",
        "maxquantity = cursor.execute(querystring,(str(start),str(end))).fetchall()\n",
        "print(maxquantity)                          \n",
        "firstq = maxquantity[0][1]\n",
        "\n",
        "print(\"Best Selling Products in period {0} to {1}: \".format(start,end),end='')\n",
        "for i in range(len(maxquantity)):\n",
        "    if maxquantity[i][1] == firstq:\n",
        "        print(maxquantity[i][0],end=' ')\n",
        "    else:\n",
        "        break"
      ],
      "execution_count": null,
      "outputs": [
        {
          "output_type": "stream",
          "text": [
            "[('51', 75), ('65', 35), ('57', 15), ('11', 12), ('41', 10), ('42', 10), ('14', 9), ('22', 6), ('72', 5)]\n",
            "Best Selling Products in period 1996-07-04 to 1996-07-08: 51 "
          ],
          "name": "stdout"
        }
      ]
    }
  ]
}
